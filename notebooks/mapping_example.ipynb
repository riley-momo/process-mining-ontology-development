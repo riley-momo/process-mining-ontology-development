{
 "cells": [
  {
   "cell_type": "markdown",
   "metadata": {},
   "source": [
    "# Imports and Setup"
   ]
  },
  {
   "cell_type": "code",
   "execution_count": 79,
   "metadata": {},
   "outputs": [],
   "source": [
    "import pm4py\n",
    "import numpy as np\n",
    "import pandas as pd\n",
    "import pdb\n",
    "import os\n",
    "import yatter\n",
    "from ruamel.yaml import YAML\n",
    "import kglab"
   ]
  },
  {
   "cell_type": "code",
   "execution_count": 80,
   "metadata": {},
   "outputs": [],
   "source": [
    "## define paths\n",
    "data_dir = '../data'\n",
    "output_dir = '../output'\n",
    "config_dir = '../config'\n",
    "os.makedirs(data_dir, exist_ok=True)\n",
    "os.makedirs(output_dir, exist_ok=True)\n",
    "os.makedirs(config_dir, exist_ok=True)\n",
    "\n",
    "mapping_file = data_dir + '/sample_mapping.yaml'\n",
    "rml_output_path = output_dir + '/sample_mapping_rml.ttl'\n",
    "kg_config_path = config_dir + '/sample_kg_config.yaml'"
   ]
  },
  {
   "cell_type": "code",
   "execution_count": 81,
   "metadata": {},
   "outputs": [],
   "source": [
    "## define KGLab config\n",
    "config = f\"\"\"\n",
    "[test]\n",
    "mappings={rml_output_path}\n",
    "\"\"\"\n",
    "with open('config.ini', 'w') as f:\n",
    "    f.write(config)\n",
    "# define KG namespaces   \n",
    "namespaces = {\n",
    "    'ex:' : \"http://example.com/\",\n",
    "    'on:' : \"https://stl.mie.utoronto.ca/ontologies/spm/\"\n",
    "}"
   ]
  },
  {
   "cell_type": "code",
   "execution_count": 82,
   "metadata": {},
   "outputs": [],
   "source": [
    "def load_df_from_log(log_path):\n",
    "  \"\"\"\n",
    "  Return a dataframe from a given XES log filepath or CSV\n",
    "  \"\"\"\n",
    "  if any(log_path.lower().endswith(ext) for ext in ['.xes', '.xes.gz']):\n",
    "    log = pm4py.read_xes(log_path)\n",
    "    df = pm4py.convert_to_dataframe(log)\n",
    "  elif log_path.lower().endswith('.csv'):\n",
    "    df = pd.read_csv(log_path)\n",
    "\n",
    "  return df"
   ]
  },
  {
   "cell_type": "code",
   "execution_count": 83,
   "metadata": {},
   "outputs": [
    {
     "data": {
      "text/html": [
       "<div>\n",
       "<style scoped>\n",
       "    .dataframe tbody tr th:only-of-type {\n",
       "        vertical-align: middle;\n",
       "    }\n",
       "\n",
       "    .dataframe tbody tr th {\n",
       "        vertical-align: top;\n",
       "    }\n",
       "\n",
       "    .dataframe thead th {\n",
       "        text-align: right;\n",
       "    }\n",
       "</style>\n",
       "<table border=\"1\" class=\"dataframe\">\n",
       "  <thead>\n",
       "    <tr style=\"text-align: right;\">\n",
       "      <th></th>\n",
       "      <th>caseID</th>\n",
       "      <th>activityID</th>\n",
       "      <th>eventID</th>\n",
       "      <th>timestamp</th>\n",
       "      <th>resourceID</th>\n",
       "    </tr>\n",
       "  </thead>\n",
       "  <tbody>\n",
       "    <tr>\n",
       "      <th>0</th>\n",
       "      <td>case_0</td>\n",
       "      <td>activity_A</td>\n",
       "      <td>event_0</td>\n",
       "      <td>2016-01-01 09:00:00.000000+00:00</td>\n",
       "      <td>user_1</td>\n",
       "    </tr>\n",
       "    <tr>\n",
       "      <th>1</th>\n",
       "      <td>case_0</td>\n",
       "      <td>activity_A</td>\n",
       "      <td>event_1</td>\n",
       "      <td>2016-01-01 09:15:00.000000+00:00</td>\n",
       "      <td>user_1</td>\n",
       "    </tr>\n",
       "    <tr>\n",
       "      <th>2</th>\n",
       "      <td>case_0</td>\n",
       "      <td>activity_C</td>\n",
       "      <td>event_2</td>\n",
       "      <td>2016-01-01 09:35:00.000000+00:00</td>\n",
       "      <td>user_1</td>\n",
       "    </tr>\n",
       "    <tr>\n",
       "      <th>3</th>\n",
       "      <td>case_1</td>\n",
       "      <td>activity_A</td>\n",
       "      <td>event_3</td>\n",
       "      <td>2016-01-02 09:00:00.000000+00:00</td>\n",
       "      <td>user_1</td>\n",
       "    </tr>\n",
       "    <tr>\n",
       "      <th>4</th>\n",
       "      <td>case_1</td>\n",
       "      <td>activity_B</td>\n",
       "      <td>event_4</td>\n",
       "      <td>2016-01-02 09:00:00.000000+00:00</td>\n",
       "      <td>user_0</td>\n",
       "    </tr>\n",
       "  </tbody>\n",
       "</table>\n",
       "</div>"
      ],
      "text/plain": [
       "   caseID  activityID  eventID                         timestamp resourceID\n",
       "0  case_0  activity_A  event_0  2016-01-01 09:00:00.000000+00:00     user_1\n",
       "1  case_0  activity_A  event_1  2016-01-01 09:15:00.000000+00:00     user_1\n",
       "2  case_0  activity_C  event_2  2016-01-01 09:35:00.000000+00:00     user_1\n",
       "3  case_1  activity_A  event_3  2016-01-02 09:00:00.000000+00:00     user_1\n",
       "4  case_1  activity_B  event_4  2016-01-02 09:00:00.000000+00:00     user_0"
      ]
     },
     "execution_count": 83,
     "metadata": {},
     "output_type": "execute_result"
    }
   ],
   "source": [
    "# view the sample event log\n",
    "log_df = load_df_from_log('../data/sample_log.csv')\n",
    "log_df.head()"
   ]
  },
  {
   "cell_type": "code",
   "execution_count": 84,
   "metadata": {},
   "outputs": [
    {
     "name": "stderr",
     "output_type": "stream",
     "text": [
      "2024-07-29 20:04:06,326 | INFO: Translating YARRRML mapping to [R2]RML\n",
      "2024-07-29 20:04:06,328 | INFO: RML content is created!\n"
     ]
    },
    {
     "name": "stderr",
     "output_type": "stream",
     "text": [
      "2024-07-29 20:04:06,336 | INFO: Mapping has been syntactically validated.\n",
      "2024-07-29 20:04:06,337 | INFO: Translation has finished successfully.\n"
     ]
    }
   ],
   "source": [
    "## convert YARRRML to RML\n",
    "yaml = YAML(typ='safe', pure=True)\n",
    "yarrrml_content = yaml.load(open(mapping_file))\n",
    "rml_content = yatter.translate(yarrrml_content)\n",
    "rml_file = open(rml_output_path, 'w')\n",
    "rml_file.write(rml_content)\n",
    "rml_file.close()"
   ]
  },
  {
   "cell_type": "code",
   "execution_count": 85,
   "metadata": {},
   "outputs": [
    {
     "name": "stderr",
     "output_type": "stream",
     "text": [
      "2024-07-29 20:04:06,360 | DEBUG: CONFIGURATION: {'output_file': 'knowledge-graph', 'na_values': ',nan', 'safe_percent_encoding': '', 'read_parsed_mappings_path': '', 'write_parsed_mappings_path': '', 'mapping_partitioning': 'PARTIAL-AGGREGATIONS', 'logging_file': '', 'oracle_client_lib_dir': '', 'oracle_client_config_dir': '', 'udfs': '', 'output_dir': '', 'output_format': 'N-TRIPLES', 'only_printable_chars': 'no', 'infer_sql_datatypes': 'no', 'logging_level': 'INFO', 'number_of_processes': '24'}\n",
      "2024-07-29 20:04:06,362 | DEBUG: DATA SOURCE `test`: {'mappings': '../output/sample_mapping_rml.ttl'}\n",
      "2024-07-29 20:04:07,060 | INFO: 8 mapping rules retrieved.\n",
      "2024-07-29 20:04:07,068 | DEBUG: All predicate maps are constant-valued, invariant subset is not enforced.\n",
      "2024-07-29 20:04:07,073 | DEBUG: All graph maps are constant-valued, invariant subset is not enforced.\n",
      "2024-07-29 20:04:07,078 | INFO: Mapping partition with 8 groups generated.\n",
      "2024-07-29 20:04:07,080 | INFO: Maximum number of rules within mapping group: 1.\n",
      "2024-07-29 20:04:07,081 | INFO: Mappings processed in 0.716 seconds.\n",
      "2024-07-29 20:04:07,083 | DEBUG: Parallelizing with 24 cores.\n",
      "2024-07-29 20:04:07,401 | INFO: Number of triples generated in total: 60.\n"
     ]
    }
   ],
   "source": [
    "# init knowledge graph\n",
    "kg = kglab.KnowledgeGraph(name=\"event-log-sample\", namespaces=namespaces)\n",
    "# create instances from mapping\n",
    "kg.materialize('config.ini')\n",
    "# save rdf instances\n",
    "kg.save_rdf(output_dir + '/sample_log_instances.ttl')"
   ]
  }
 ],
 "metadata": {
  "kernelspec": {
   "display_name": "base",
   "language": "python",
   "name": "python3"
  },
  "language_info": {
   "codemirror_mode": {
    "name": "ipython",
    "version": 3
   },
   "file_extension": ".py",
   "mimetype": "text/x-python",
   "name": "python",
   "nbconvert_exporter": "python",
   "pygments_lexer": "ipython3",
   "version": "3.8.19"
  }
 },
 "nbformat": 4,
 "nbformat_minor": 2
}
